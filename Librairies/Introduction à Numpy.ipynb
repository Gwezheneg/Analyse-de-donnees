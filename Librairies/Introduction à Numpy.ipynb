{
 "cells": [
  {
   "cell_type": "markdown",
   "id": "cf1a0917",
   "metadata": {},
   "source": [
    "<img style=\"float: left; width: 100px; height: auto;\" src=\"https://upload.wikimedia.org/wikipedia/commons/3/31/NumPy_logo_2020.svg\"/>\n"
   ]
  },
  {
   "cell_type": "markdown",
   "id": "01caf836",
   "metadata": {},
   "source": [
    "<h1 style=\"text-align: center;\">Guide d'utilisation de NumPy</h1>\n",
    "\n",
    "\n",
    "\n",
    "## Introduction à [NumPy](https://numpy.org/doc/stable/user/basics.html)\n",
    "\n",
    "\n",
    "NumPy est une bibliothèque Python utilisée pour le calcul numérique. Elle fournit un support pour les tableaux multidimensionnels, ainsi que des fonctions pour effectuer des opérations mathématiques sur ces tableaux. Voici un guide pour bien démarrer avec NumPy.\n"
   ]
  },
  {
   "cell_type": "markdown",
   "id": "617bea2b",
   "metadata": {},
   "source": [
    "## Installation\n",
    "\n",
    "Nous pouvons l'installer via pip :"
   ]
  },
  {
   "cell_type": "code",
   "execution_count": 1,
   "id": "ba57391d",
   "metadata": {},
   "outputs": [],
   "source": [
    "# pip install numpy    # Nous n'avons pas besoin de l'installer sur Jupyter"
   ]
  },
  {
   "cell_type": "markdown",
   "id": "7551be68",
   "metadata": {},
   "source": [
    "## Importation\n",
    "\n",
    "Pour utiliser NumPy dans notre code Python, importons-le de la manière suivante :\n"
   ]
  },
  {
   "cell_type": "code",
   "execution_count": 2,
   "id": "52bf3306",
   "metadata": {},
   "outputs": [],
   "source": [
    "import numpy as np"
   ]
  },
  {
   "cell_type": "markdown",
   "id": "41fba510",
   "metadata": {},
   "source": [
    "## Création de tableaux\n",
    "\n",
    "### Tableaux à une dimension (vecteurs)\n"
   ]
  },
  {
   "cell_type": "code",
   "execution_count": 3,
   "id": "b80ca084",
   "metadata": {},
   "outputs": [],
   "source": [
    "# À partir d'une liste ou d'un tuple\n",
    "vecteur1 = np.array([1, 2, 3, 4, 5])\n",
    "\n",
    "# À partir d'une plage\n",
    "vecteur2 = np.arange(1, 6)\n",
    "\n",
    "# Vecteur de zéros\n",
    "vecteur3 = np.zeros(5)\n",
    "\n",
    "# Vecteur de uns\n",
    "vecteur4 = np.ones(5)\n",
    "\n",
    "# Vecteur aléatoire (distribution uniforme)\n",
    "vecteur5 = np.random.rand(5)"
   ]
  },
  {
   "cell_type": "code",
   "execution_count": 4,
   "id": "cf3251ce",
   "metadata": {},
   "outputs": [
    {
     "name": "stdout",
     "output_type": "stream",
     "text": [
      "[1 2 3 4 5]\n",
      "[1 2 3 4 5]\n",
      "[0.92774541 0.01662868 0.37866272 0.00993845 0.92949015]\n"
     ]
    }
   ],
   "source": [
    "print(vecteur1)\n",
    "print(vecteur2)\n",
    "print(vecteur5)"
   ]
  },
  {
   "cell_type": "code",
   "execution_count": 5,
   "id": "6413d783",
   "metadata": {},
   "outputs": [
    {
     "name": "stdout",
     "output_type": "stream",
     "text": [
      "[0 1 2 3 4]\n",
      "[-6.   -3.75 -1.5   0.75  3.  ]\n"
     ]
    }
   ],
   "source": [
    "# Générer un vecteur séparé par un interval fixe : arange(début,fin,pas,dtype)\n",
    "print(np.arange(5))\n",
    "\n",
    "# Générer un vecteur espacé linéairement : linspace(début,fin,nombre de points)\n",
    "print(np.linspace(-6,3,5)) "
   ]
  },
  {
   "cell_type": "markdown",
   "id": "81cab1f7",
   "metadata": {},
   "source": [
    "### Tableaux à deux dimensions (matrices)"
   ]
  },
  {
   "cell_type": "code",
   "execution_count": 6,
   "id": "b77dcbd8",
   "metadata": {},
   "outputs": [],
   "source": [
    "# À partir de listes/tuples imbriquées\n",
    "matrice1 = np.array([[1, 2, 3], \n",
    "                     [4, 5, 6], \n",
    "                     [7, 8, 9]])\n",
    "\n",
    "# Matrice identité\n",
    "matrice2 = np.eye(3) # De dimension (3,3)\n",
    "\n",
    "# Matrice de zéros\n",
    "matrice3 = np.zeros((3, 3))\n",
    "\n",
    "# Matrice de uns\n",
    "matrice4 = np.ones((3, 3))\n",
    "\n",
    "# Matrice aléatoire (distribution uniforme)\n",
    "matrice5 = np.random.rand(3, 3)\n",
    "\n",
    "# Matrice aléatoire (distribution normale) aux dimensions 2x3\n",
    "matrice6 = np.random.randn(2, 3)\n",
    "\n",
    "# Matrice d'entiers aléatoires de 0 a 10 et de dimension 2x3\n",
    "matrice7 = np.random.randint(0, 10, [2, 3])\n",
    "\n",
    "# Matrice de valeurs identiques\n",
    "matrice8 = np.full((2,3), 10)"
   ]
  },
  {
   "cell_type": "code",
   "execution_count": 7,
   "id": "b0f711c9",
   "metadata": {},
   "outputs": [
    {
     "name": "stdout",
     "output_type": "stream",
     "text": [
      "[[ 0.70850024  1.42874265  1.54817807]\n",
      " [ 1.54680767 -1.65324317 -0.63657298]]\n"
     ]
    }
   ],
   "source": [
    "print(matrice6)"
   ]
  },
  {
   "cell_type": "markdown",
   "id": "78bc5d81",
   "metadata": {},
   "source": [
    "## Accès aux éléments (indexing et slicing)"
   ]
  },
  {
   "cell_type": "code",
   "execution_count": 8,
   "id": "66523fec",
   "metadata": {},
   "outputs": [
    {
     "name": "stdout",
     "output_type": "stream",
     "text": [
      "1\n",
      "[2 4]\n",
      "2\n"
     ]
    }
   ],
   "source": [
    "vecteur1 = np.array([1,2,3,4,5,6])\n",
    "\n",
    "# Accès à un élément (indexing) : [index]\n",
    "print(vecteur1[0])\n",
    "\n",
    "# Accès à une tranche (slicing) : [début:fin:pas]\n",
    "print(vecteur1[1:5:2])\n",
    "\n",
    "matrice1 = np.array([[1,2],[3,4]])\n",
    "\n",
    "# Accès à un élément spécifique dans une matrice\n",
    "print(matrice1[0][1])"
   ]
  },
  {
   "cell_type": "markdown",
   "id": "88139670",
   "metadata": {},
   "source": [
    "## Boolean indexing"
   ]
  },
  {
   "cell_type": "code",
   "execution_count": 9,
   "id": "3d9e293c",
   "metadata": {},
   "outputs": [
    {
     "name": "stdout",
     "output_type": "stream",
     "text": [
      "[[ True  True  True]\n",
      " [ True False False]]\n",
      "[1 2 3 4]\n",
      "[[4 4 4]\n",
      " [4 5 6]]\n"
     ]
    }
   ],
   "source": [
    "A = np.array([[1, 2, 3], [4, 5, 6]])\n",
    "\n",
    "# Masque booléen\n",
    "print(A<5)\n",
    " \n",
    "# Sous-ensemble filtré par le masque booléen\n",
    "print(A[A < 5])\n",
    " \n",
    "# Convertir les valeurs sélectionnées\n",
    "A[A<5] = 4 \n",
    "\n",
    "print(A)"
   ]
  },
  {
   "cell_type": "markdown",
   "id": "5c11380b",
   "metadata": {},
   "source": [
    "## Format et Dimension"
   ]
  },
  {
   "cell_type": "code",
   "execution_count": 10,
   "id": "e02c1ffd",
   "metadata": {},
   "outputs": [
    {
     "name": "stdout",
     "output_type": "stream",
     "text": [
      "2\n",
      "4\n",
      "(2, 2)\n"
     ]
    },
    {
     "data": {
      "text/plain": [
       "2"
      ]
     },
     "execution_count": 10,
     "metadata": {},
     "output_type": "execute_result"
    }
   ],
   "source": [
    "matrice1 = np.array([[1,2],[3,4]])\n",
    "\n",
    "# Dimension d'un tableau\n",
    "print(matrice1.ndim)\n",
    "\n",
    "# Nombre d'éléments dans un tableau\n",
    "print(matrice1.size)\n",
    "\n",
    "# N-uplet indiquant la longueur pour chaque dimension du tableau\n",
    "print(matrice1.shape)\n",
    "\n",
    "# Longueur d'un array\n",
    "len(matrice1)"
   ]
  },
  {
   "cell_type": "markdown",
   "id": "f329aaae",
   "metadata": {},
   "source": [
    "## Modification des éléments"
   ]
  },
  {
   "cell_type": "code",
   "execution_count": 11,
   "id": "60ad582f",
   "metadata": {},
   "outputs": [
    {
     "name": "stdout",
     "output_type": "stream",
     "text": [
      "[[11 22 33]\n",
      " [ 4  5  6]\n",
      " [ 7  8  9]\n",
      " [10 11 12]]\n"
     ]
    }
   ],
   "source": [
    "# Remplacer les valeurs d’un tableau\n",
    "matriceA = np.array([ [1, 2, 3], [4, 5, 6], [7, 8, 9], [10, 11, 12]])\n",
    "matriceA[0] = [11, 22, 33]\n",
    "print(matriceA)"
   ]
  },
  {
   "cell_type": "code",
   "execution_count": 12,
   "id": "7f52b856",
   "metadata": {},
   "outputs": [
    {
     "name": "stdout",
     "output_type": "stream",
     "text": [
      "[[100 100 100]\n",
      " [  4   5   6]\n",
      " [  7   8   9]\n",
      " [ 10  11  12]]\n",
      "[[100 100 100]\n",
      " [100 100 100]\n",
      " [  7   8   9]\n",
      " [ 10  11  12]]\n"
     ]
    }
   ],
   "source": [
    "# Remplacement par un unique scalaire\n",
    "matriceA[0] = 100\n",
    "print(matriceA)\n",
    "\n",
    "# Remplacement avec Slicing\n",
    "matriceA[0:2] = 100\n",
    "print(matriceA)"
   ]
  },
  {
   "cell_type": "markdown",
   "id": "8d98f0c0",
   "metadata": {},
   "source": [
    "## Manipulation des Arrays"
   ]
  },
  {
   "cell_type": "code",
   "execution_count": 13,
   "id": "4811773f",
   "metadata": {},
   "outputs": [
    {
     "name": "stdout",
     "output_type": "stream",
     "text": [
      "[[0. 0.]\n",
      " [0. 0.]\n",
      " [0. 0.]]\n",
      "[[0. 0. 0. 0. 0. 0.]]\n"
     ]
    }
   ],
   "source": [
    "# Redimensionner un tableau\n",
    "matrice = np.zeros((2, 3))\n",
    "print(matrice.reshape((3,2)))\n",
    "print(matrice.reshape((1,6)))"
   ]
  },
  {
   "cell_type": "code",
   "execution_count": 14,
   "id": "b4bd21f1",
   "metadata": {},
   "outputs": [
    {
     "name": "stdout",
     "output_type": "stream",
     "text": [
      "[0. 0. 0. 0. 0. 0.]\n",
      "----------\n",
      "[[0. 0. 0.]\n",
      " [0. 0. 0.]\n",
      " [1. 1. 1.]\n",
      " [1. 1. 1.]]\n",
      "----------\n",
      "[[0. 0. 0. 1. 1. 1.]\n",
      " [0. 0. 0. 1. 1. 1.]]\n"
     ]
    }
   ],
   "source": [
    "# Applatir un tableau (il ne fait plus qu'une dimension)\n",
    "print(matrice.ravel())\n",
    "print(\"-\"*10)\n",
    "\n",
    "# Assembler 2 tableaux selon un axe (similaire à hstack et vstack)\n",
    "matrice9 = np.ones((2,3))\n",
    "print(np.concatenate((matrice, matrice9), axis=0)) # axe 0 : équivalent de np.vstack((matrice, matrice9))\n",
    "print(\"-\"*10)\n",
    "print(np.concatenate((matrice, matrice9), axis=1)) # axe 1 : équivalent de np.hstack((matrice, matrice9))"
   ]
  },
  {
   "cell_type": "code",
   "execution_count": 15,
   "id": "a0d5c549",
   "metadata": {},
   "outputs": [
    {
     "name": "stdout",
     "output_type": "stream",
     "text": [
      "[[1 2 3 4]\n",
      " [5 6 7 8]]\n",
      "[[ 1  5  7]\n",
      " [ 8  3  7]\n",
      " [10 11 12]]\n"
     ]
    }
   ],
   "source": [
    "# Ajouter une colonne à une matrice\n",
    "matriceB = np.array([[1,2,3], [5,6,7]])\n",
    "\n",
    "ajout_col = np.array([[4], [8]])\n",
    "matriceB = np.append(matriceB,ajout_col, axis = 1)\n",
    "print(matriceB)\n",
    "\n",
    "# Ajouter une ligne à une matrice\n",
    "matriceC = np.array([[1,5,7], [8,3,7]])\n",
    "matriceC = np.vstack([matriceC,np.array([10, 11, 12])])\n",
    "print(matriceC)"
   ]
  },
  {
   "cell_type": "markdown",
   "id": "b82bdc49",
   "metadata": {},
   "source": [
    "Pour copier un tableau il ne faut pas faire un \"=\" mais un \"Mat = mat_à_copier.copy()\""
   ]
  },
  {
   "cell_type": "markdown",
   "id": "1990d6b9",
   "metadata": {},
   "source": [
    "## Fonctions mathématiques"
   ]
  },
  {
   "cell_type": "code",
   "execution_count": 16,
   "id": "ab8e6ecf",
   "metadata": {},
   "outputs": [
    {
     "name": "stdout",
     "output_type": "stream",
     "text": [
      "[ 0.84147098  0.90929743  0.14112001 -0.7568025 ]\n",
      "[ 0.54030231 -0.41614684 -0.9899925  -0.65364362]\n",
      "[ 2.71828183  7.3890561  20.08553692 54.59815003]\n",
      "[0.         0.69314718 1.09861229 1.38629436]\n"
     ]
    }
   ],
   "source": [
    "vecteurA = np.array([1,2,3,4])\n",
    "vecteurB = np.array([5,6,7,8])\n",
    "\n",
    "# Fonctions trigonométriques\n",
    "print(np.sin(vecteurA))\n",
    "print(np.cos(vecteurA))\n",
    "\n",
    "# Fonctions exponentielles et logarithmiques\n",
    "print(np.exp(vecteurA))\n",
    "print(np.log(vecteurA))"
   ]
  },
  {
   "cell_type": "markdown",
   "id": "0b16e170",
   "metadata": {},
   "source": [
    "## Opérations mathématiques\n",
    "NumPy fournit des fonctions pour effectuer des opérations mathématiques sur les tableaux."
   ]
  },
  {
   "cell_type": "code",
   "execution_count": 17,
   "id": "8b3df84c",
   "metadata": {},
   "outputs": [
    {
     "name": "stdout",
     "output_type": "stream",
     "text": [
      "[ 6  8 10 12]\n",
      "[-4 -4 -4 -4]\n",
      "[ 5 12 21 32]\n",
      "[0.2        0.33333333 0.42857143 0.5       ]\n",
      "70\n",
      "[1 2 3 4]\n"
     ]
    }
   ],
   "source": [
    "# Addition\n",
    "print(np.add(vecteurA, vecteurB))\n",
    "\n",
    "# Soustraction\n",
    "print(np.subtract(vecteurA, vecteurB))\n",
    "\n",
    "# Multiplication (de termes à termes)\n",
    "print(np.multiply(vecteurA, vecteurB))\n",
    "\n",
    "# Division\n",
    "print(np.divide(vecteurA, vecteurB))\n",
    "\n",
    "# Produit scalaire & Produit matriciel\n",
    "print(np.dot(vecteurA, vecteurB))\n",
    "\n",
    "# Transposé d'une matrice : métode np.transpose() ou attribut vecteurA.T\n",
    "print(np.transpose(vecteurA))"
   ]
  },
  {
   "cell_type": "markdown",
   "id": "3335b133",
   "metadata": {},
   "source": [
    "Pour le produit scalaire : \n",
    "$a \\cdot b = \\sum_{i=1}^{n} a_i \\times b_i$\n",
    "\n",
    "\n",
    "Où $a_i$ et $b_i$ sont les composantes des vecteurs a et b, respectivement."
   ]
  },
  {
   "cell_type": "markdown",
   "id": "517ea6a9",
   "metadata": {},
   "source": [
    "# Somme, Produit d'une matrice"
   ]
  },
  {
   "cell_type": "markdown",
   "id": "70ef9a75",
   "metadata": {},
   "source": [
    "<img src=\"./Images/image1.png\" alt=\"Visualisation des axes Numpy\" width=\"300\" height=\"auto\" style=\"float: left;\"/>"
   ]
  },
  {
   "cell_type": "code",
   "execution_count": 18,
   "id": "0b3b1354",
   "metadata": {},
   "outputs": [
    {
     "name": "stdout",
     "output_type": "stream",
     "text": [
      "27\n",
      "[ 8  7 12]\n",
      "[ 8 19]\n",
      "[[ 5  0  3]\n",
      " [ 8  7 12]]\n",
      "0\n",
      "[5 0 0 0 0 0]\n",
      "0\n",
      "9\n",
      "4.5\n",
      "4.0\n",
      "2.9297326385411577\n"
     ]
    }
   ],
   "source": [
    "A = np.array([[5, 0, 3], [3, 7, 9]])\n",
    "\n",
    "# Somme de tous les éléments du tableau\n",
    "print(A.sum()) \n",
    "\n",
    "# Somme des colonnes (somme sur les éléments des lignes)\n",
    "print(A.sum(axis=0)) \n",
    "\n",
    "# Somme des lignes (somme sur les éléments des colonnes)\n",
    "print(A.sum(axis=1)) \n",
    "\n",
    "# Somme cumulée\n",
    "print(A.cumsum(axis=0))\n",
    " \n",
    "# Produit et Produit cumulé\n",
    "print(A.prod()) \n",
    "print(A.cumprod())\n",
    " \n",
    "\n",
    "# Fonctions statistiques\n",
    "print(A.min())\n",
    "print(A.max())\n",
    "print(A.mean())\n",
    "print(np.median(A))\n",
    "print(np.std(A))"
   ]
  },
  {
   "cell_type": "markdown",
   "id": "baf69766",
   "metadata": {},
   "source": [
    "## [Algèbre Linéaire](https://numpy.org/doc/stable/reference/routines.linalg.html)"
   ]
  },
  {
   "cell_type": "code",
   "execution_count": 19,
   "id": "fcb5c7bc",
   "metadata": {},
   "outputs": [
    {
     "name": "stdout",
     "output_type": "stream",
     "text": [
      "o Le déterminant de B est : -12.0\n",
      "o L'inverse de B est : [[-0.75        0.25      ]\n",
      " [ 0.58333333 -0.08333333]]\n",
      "o La solution de l'équation est : [-1.75        1.91666667]\n",
      "o [ 2.  1. -1.]\n",
      "o [[ 3.01511345e-01 -8.01783726e-01  7.07106781e-01]\n",
      " [ 9.04534034e-01 -5.34522484e-01 -1.92296269e-16]\n",
      " [ 3.01511345e-01 -2.67261242e-01  7.07106781e-01]]\n"
     ]
    }
   ],
   "source": [
    "B = np.array([[1,3],[7,9]])\n",
    "C = np.array([4,5])\n",
    "\n",
    "# Déterminant d'une matrice\n",
    "print(\"o Le déterminant de B est :\", np.linalg.det(B))\n",
    "\n",
    "# Inverse d'une matrice\n",
    "print(\"o L'inverse de B est :\", np.linalg.inv(B))\n",
    "\n",
    "# Résolution d’un système d’équations linéaires\n",
    "x = np.linalg.solve(B, C)\n",
    "print(\"o La solution de l'équation est :\", x)\n",
    "\n",
    "# Vérifier la solution à l'équation\n",
    "np.allclose(np.dot(B, x), C)\n",
    "\n",
    "\n",
    "D = np.array([[ 1, 1, -2 ], [-1, 2, 1], [0, 1, -1]])\n",
    "\n",
    "# Valeurs propres et vecteurs propres\n",
    "E, V = np.linalg.eig(D)\n",
    "print(\"o\", E)\n",
    "print(\"o\",V)\n",
    "\n",
    "# Les colonnes de V sont les vecteurs propres de A associés aux valeurs propres qui apparaissent dans D"
   ]
  },
  {
   "cell_type": "markdown",
   "id": "baf13595",
   "metadata": {},
   "source": [
    "## Génération d'une matrice avec des nombres pseudo-aléatoires"
   ]
  },
  {
   "cell_type": "code",
   "execution_count": 20,
   "id": "32a4b4c0",
   "metadata": {},
   "outputs": [
    {
     "name": "stdout",
     "output_type": "stream",
     "text": [
      "[0.60042685 0.82090252 0.58149234 0.11548998 0.77466364]\n",
      "[6.99064792 2.20055456 8.87694092 1.14754048 6.17187297]\n",
      "[5 6 9 5 8]\n",
      "[ 0.98449154  0.6293554  -0.15465325  1.08177638 -0.97639184]\n",
      "[14.73103058  8.15826495  4.12125091 11.4369656  13.68846241]\n",
      "[4 3 4 7 4]\n",
      "[0.69029754 0.72297684 0.56308963 0.77756144 0.89701501]\n",
      "[2 3 0 1 2]\n",
      "[-0.30967268  0.81690714  1.10451966  2.21276321 -0.12002712]\n"
     ]
    }
   ],
   "source": [
    "# Tirage de 5 valeurs\n",
    "taille = 5 \n",
    "\n",
    "# Nombres tirés d'une loi Uniforme [0,1]\n",
    "print(np.random.rand(taille))\n",
    "\n",
    "# Nombres tirés d'une loi Uniforme [a,b]\n",
    "a, b = 0, 10\n",
    "print(np.random.uniform(a,b,taille))\n",
    "\n",
    "# Nombres tirés d'une loi Uniforme [a;b[\n",
    "print(np.random.randint(a,b,taille))\n",
    " \n",
    "# Nombres tirés d'une loi Normale centrée réduite\n",
    "print(np.random.randn(taille))\n",
    "\n",
    "# Nombres tirés d'une loi Normale d’espérance 10 et d’écart-type 4\n",
    "print(np.random.normal(10, 4, taille))\n",
    "\n",
    "# Nombres tirés d'une loi Binomiale (n,p)\n",
    "print(np.random.binomial(10, 0.5, taille))\n",
    " \n",
    "# Nombres tirés d'une loi bêta de paramètres 10 et 5\n",
    "print(np.random.beta(10, 5, taille))\n",
    "\n",
    "# Nombres tirés d'une loi de Poisson de paramètre 2\n",
    "print(np.random.poisson(2, taille))\n",
    "\n",
    "# Nombres tirés d'une loi de Student à 10 degrés de liberté\n",
    "print(np.random.standard_t(10, taille))"
   ]
  },
  {
   "cell_type": "markdown",
   "id": "a4c86d89",
   "metadata": {},
   "source": [
    "Source pour la rédaction de ce notebook :\n",
    "- https://numpy.org/doc/stable/user/basics.html"
   ]
  }
 ],
 "metadata": {
  "kernelspec": {
   "display_name": "Python 3 (ipykernel)",
   "language": "python",
   "name": "python3"
  },
  "language_info": {
   "codemirror_mode": {
    "name": "ipython",
    "version": 3
   },
   "file_extension": ".py",
   "mimetype": "text/x-python",
   "name": "python",
   "nbconvert_exporter": "python",
   "pygments_lexer": "ipython3",
   "version": "3.11.5"
  }
 },
 "nbformat": 4,
 "nbformat_minor": 5
}
